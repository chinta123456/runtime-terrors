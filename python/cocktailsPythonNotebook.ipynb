{
 "cells": [
  {
   "cell_type": "code",
   "execution_count": 7,
   "metadata": {},
   "outputs": [],
   "source": [
    "import pandas as pd\n",
    "import requests as rs\n",
    "import pymongo\n"
   ]
  },
  {
   "cell_type": "code",
   "execution_count": 8,
   "metadata": {},
   "outputs": [],
   "source": [
    "# The default port used by MongoDB is 27017\n",
    "# https://docs.mongodb.com/manual/reference/default-mongodb-port/\n",
    "conn = 'mongodb://localhost:27017'\n",
    "client = pymongo.MongoClient(conn)\n",
    "\n",
    "# Define the 'cityDB' database in Mongo\n",
    "db = client.cityDB"
   ]
  },
  {
   "cell_type": "code",
   "execution_count": 9,
   "metadata": {},
   "outputs": [],
   "source": [
    "#search_term = 'Vodka'\n",
    "liquors = ['Vodka', 'Gin', 'Tequila', 'Rum', 'Brandy', 'Whiskey', 'Scotch']\n",
    "\n",
    "for search_term in liquors:\n",
    "    cocktail_url = f'https://www.thecocktaildb.com/api/json/v1/1/filter.php?i={search_term}'\n",
    "    results = rs.get(cocktail_url).json()\n",
    "    df = pd.DataFrame(results['drinks'])\n",
    "    df['base_liquor'] = search_term\n",
    "    db.cocktails.insert_many(df.to_dict('records'))\n",
    "    "
   ]
  },
  {
   "cell_type": "code",
   "execution_count": null,
   "metadata": {},
   "outputs": [],
   "source": []
  }
 ],
 "metadata": {
  "kernelspec": {
   "display_name": "Python 3",
   "language": "python",
   "name": "python3"
  },
  "language_info": {
   "codemirror_mode": {
    "name": "ipython",
    "version": 3
   },
   "file_extension": ".py",
   "mimetype": "text/x-python",
   "name": "python",
   "nbconvert_exporter": "python",
   "pygments_lexer": "ipython3",
   "version": "3.7.4"
  }
 },
 "nbformat": 4,
 "nbformat_minor": 2
}
