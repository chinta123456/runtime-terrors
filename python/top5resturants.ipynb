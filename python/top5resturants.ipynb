{
 "cells": [
  {
   "cell_type": "markdown",
   "metadata": {},
   "source": [
    "<h1>Notes: </h1>\n",
    "<li>Boston & New Orleans P tags do not line up, how can I adjust to get the correct locations?</li>\n",
    "<li>How can I make this a dynamic code -- want to shorten it but using a dictionary in the URL that has all of the cities</li>\n"
   ]
  },
  {
   "cell_type": "code",
   "execution_count": 115,
   "metadata": {},
   "outputs": [],
   "source": [
    "import requests\n",
    "from bs4 import BeautifulSoup as bs\n",
    "import pandas as pd\n",
    "import time\n",
    "from splinter import Browser\n",
    "import pymongo"
   ]
  },
  {
   "cell_type": "markdown",
   "metadata": {},
   "source": [
    "# Dynamic/MongoDB"
   ]
  },
  {
   "cell_type": "code",
   "execution_count": 126,
   "metadata": {},
   "outputs": [],
   "source": [
    "# The default port used by MongoDB is 27017\n",
    "# https://docs.mongodb.com/manual/reference/default-mongodb-port/\n",
    "conn = 'mongodb://localhost:27017'\n",
    "client = pymongo.MongoClient(conn)\n",
    "\n",
    "# Define the 'pubDB' database in Mongo\n",
    "db = client.pubDB"
   ]
  },
  {
   "cell_type": "code",
   "execution_count": 127,
   "metadata": {},
   "outputs": [
    {
     "name": "stdout",
     "output_type": "stream",
     "text": [
      "1. Jacob’s Pickles\n",
      "2. Barn Joo 35\n",
      "3. Tanner Smiths\n",
      "4. Dutch Freds\n",
      "5. The Dead Rabbit\n"
     ]
    },
    {
     "name": "stderr",
     "output_type": "stream",
     "text": [
      "C:\\Users\\Marissa Laptop\\Anaconda3\\lib\\site-packages\\ipykernel_launcher.py:27: DeprecationWarning: insert is deprecated. Use insert_one or insert_many instead.\n"
     ]
    },
    {
     "name": "stdout",
     "output_type": "stream",
     "text": [
      "1. Lolita Cocina & Tequila Bar Back Bay\n",
      "2. Gaslight\n",
      "3. Eastern Standard Kitchen & Drinks\n",
      "4. The Salty Pig\n",
      "5. Parish Cafe and Bar\n",
      "1. Root Down\n",
      "2. Linger\n",
      "3. Steuben’s Uptown\n",
      "4. Cherry Cricket\n",
      "5. Viewhouse - Centennial\n",
      "1. Monk’s Cafe\n",
      "2. Village Whiskey\n",
      "3. Good Dog Bar\n",
      "4. Bud & Marilyn’s\n",
      "5. Khyber Pass Pub\n",
      "1. Wayfare Tavern\n",
      "2. Marlowe\n",
      "3. The Monk’s Kettle\n",
      "4. Hops & Hominy\n",
      "5. Magnolia Haight\n",
      "1. Commander’s Palace\n",
      "2. Coop’s Place\n",
      "3. District Donuts Sliders Brew\n",
      "4. SoBou\n",
      "5. Three Muses\n"
     ]
    }
   ],
   "source": [
    "cities = ['Manhattan','Boston', 'Denver', 'Philidelphia', 'San_Francisco', 'New_Orleans']\n",
    "executable_path1 = {'executable_path': 'geckodriver.exe'}\n",
    "browser = Browser('firefox', executable_path1, headless = False)\n",
    "results = {}\n",
    "\n",
    "for search_term in cities:\n",
    "    \n",
    "    pub_url = f'https://www.yelp.com/search?find_desc=Gastropubs&find_loc={search_term}&sortby=review_count'\n",
    "    browser.visit(pub_url)\n",
    "\n",
    "    html = browser.html\n",
    "    \n",
    "    url = requests.get(pub_url).text\n",
    "    soup = bs(url, 'html.parser')\n",
    "\n",
    "    ul_tag = nyc_soup.find('ul', class_='lemon--ul__373c0__1_cxs undefined list__373c0__2G8oH')\n",
    "    h4_tag = nyc_soup.find_all('h4')\n",
    "    #results = h4_tag\n",
    "    nyc_ul_tag = soup.find('ul', class_='lemon--ul__373c0__1_cxs undefined list__373c0__2G8oH')\n",
    "    nyc_h4_tag = soup.find_all('h4')\n",
    "    nyc_h4_tag\n",
    "    temp = []\n",
    "    for i in range(1,6):\n",
    "        print(nyc_h4_tag[i].text)\n",
    "        temp.append(nyc_h4_tag[i].text.replace('\\xa0','' ))\n",
    "        results[search_term] = temp\n",
    "    db.pubs.insert({search_term:temp})"
   ]
  },
  {
   "cell_type": "code",
   "execution_count": 124,
   "metadata": {},
   "outputs": [
    {
     "name": "stdout",
     "output_type": "stream",
     "text": [
      "{'Manhattan': ['1.Jacob’s Pickles', '2.Barn Joo 35', '3.Tanner Smiths', '4.Dutch Freds', '5.The Dead Rabbit'], 'Boston': ['1.Lolita Cocina & Tequila Bar Back Bay', '2.Gaslight', '3.Eastern Standard Kitchen & Drinks', '4.The Salty Pig', '5.Parish Cafe and Bar'], 'Denver': ['1.Root Down', '2.Linger', '3.Steuben’s Uptown', '4.Cherry Cricket', '5.Viewhouse - Centennial'], 'Philidelphia': ['1.Monk’s Cafe', '2.Village Whiskey', '3.Good Dog Bar', '4.Bud & Marilyn’s', '5.Khyber Pass Pub'], 'San_Francisco': ['1.Wayfare Tavern', '2.Marlowe', '3.The Monk’s Kettle', '4.Hops & Hominy', '5.Magnolia Haight'], 'New_Orleans': ['1.Commander’s Palace', '2.Coop’s Place', '3.District Donuts Sliders Brew', '4.SoBou', '5.Three Muses'], '_id': ObjectId('5ee8263c7d6fbb2be86af406')}\n"
     ]
    }
   ],
   "source": [
    "# for city in results:\n",
    "#     db.pubs.insert(cities)\n",
    "print(results)"
   ]
  },
  {
   "cell_type": "code",
   "execution_count": 122,
   "metadata": {
    "scrolled": true
   },
   "outputs": [
    {
     "name": "stderr",
     "output_type": "stream",
     "text": [
      "C:\\Users\\Marissa Laptop\\Anaconda3\\lib\\site-packages\\ipykernel_launcher.py:1: DeprecationWarning: insert is deprecated. Use insert_one or insert_many instead.\n",
      "  \"\"\"Entry point for launching an IPython kernel.\n"
     ]
    },
    {
     "data": {
      "text/plain": [
       "ObjectId('5ee8263c7d6fbb2be86af406')"
      ]
     },
     "execution_count": 122,
     "metadata": {},
     "output_type": "execute_result"
    }
   ],
   "source": [
    "db.pubs.insert(results)"
   ]
  },
  {
   "cell_type": "markdown",
   "metadata": {},
   "source": [
    "# New York City"
   ]
  },
  {
   "cell_type": "code",
   "execution_count": 32,
   "metadata": {},
   "outputs": [],
   "source": [
    "executable_path1 = {'executable_path': 'geckodriver.exe'}\n",
    "nyc_browser = Browser('firefox', executable_path1, headless = False)"
   ]
  },
  {
   "cell_type": "code",
   "execution_count": 72,
   "metadata": {},
   "outputs": [],
   "source": [
    "nyc_url = \"https://www.yelp.com/search?find_desc=Gastropubs&find_loc=Manhattan&sortby=review_count\"\n",
    "nyc_browser.visit(nyc_url)\n",
    "\n",
    "nyc_html = nyc_browser.html"
   ]
  },
  {
   "cell_type": "code",
   "execution_count": 73,
   "metadata": {},
   "outputs": [
    {
     "name": "stdout",
     "output_type": "stream",
     "text": [
      "1. Jacob’s Pickles\n",
      "2. The Smith\n",
      "3. Barn Joo 35\n",
      "4. Tanner Smiths\n",
      "5. Dutch Freds\n"
     ]
    }
   ],
   "source": [
    "nyc = requests.get(nyc_url).text\n",
    "nyc_soup = bs(nyc, 'html.parser')\n",
    "\n",
    "nyc_ul_tag = nyc_soup.find('ul', class_='lemon--ul__373c0__1_cxs undefined list__373c0__2G8oH')\n",
    "nyc_h4_tag = nyc_soup.find_all('h4')\n",
    "nyc_h4_tag\n",
    "\n",
    "for i in range(1,6):\n",
    "    print(nyc_h4_tag[i].text)"
   ]
  },
  {
   "cell_type": "markdown",
   "metadata": {},
   "source": [
    "# Boston"
   ]
  },
  {
   "cell_type": "code",
   "execution_count": 36,
   "metadata": {},
   "outputs": [],
   "source": [
    "executable_path2 = {'executable_path': 'geckodriver.exe'}\n",
    "bos_browser = Browser('firefox', executable_path2, headless = False)\n",
    "\n",
    "cities = ['Manhattan','Boston', 'Denver', 'Philidelphia', 'San_Francisco', 'New_Orleans']\n",
    "bos_url = \"https://www.yelp.com/search?find_desc=Nightlife&find_loc=Boston\"\n",
    "bos_browser.visit(bos_url)\n",
    "\n",
    "bos_html = bos_browser.html"
   ]
  },
  {
   "cell_type": "code",
   "execution_count": 37,
   "metadata": {},
   "outputs": [
    {
     "name": "stdout",
     "output_type": "stream",
     "text": [
      "1. Tunnel\n",
      "2. Havana Club\n",
      "3. Machine\n",
      "4. Lookout Rooftop Bar\n",
      "5. Rooftop at Revere\n"
     ]
    }
   ],
   "source": [
    "bos = requests.get(bos_url).text\n",
    "bos_soup = bs(bos, 'html.parser')\n",
    "\n",
    "bos_ul_tag = bos_soup.find('ul', class_='lemon--ul__373c0__1_cxs undefined list__373c0__2G8oH')\n",
    "bos_h4_tag = bos_soup.find_all('h4')\n",
    "bos_h4_tag\n",
    "\n",
    "for i in range(1,6):\n",
    "    print(bos_h4_tag[i].text)"
   ]
  },
  {
   "cell_type": "code",
   "execution_count": 38,
   "metadata": {},
   "outputs": [
    {
     "data": {
      "text/plain": [
       "['Central Square',\n",
       " '1256 Boylston St',\n",
       " '(617) 530-1559',\n",
       " 'Waterfront',\n",
       " '200 Stuart St']"
      ]
     },
     "execution_count": 38,
     "metadata": {},
     "output_type": "execute_result"
    }
   ],
   "source": [
    "bos_p_tag = bos_ul_tag.find_all('p', class_='lemon--p__373c0__3Qnnj text__373c0__2Kxyz text-color--black-extra-light__373c0__2OyzO text-align--right__373c0__1f0KI text-size--small__373c0__3NVWO')\n",
    "bos_locations = []\n",
    "for p in bos_p_tag[4::2]:\n",
    "    bos_locations.append(p.text)\n",
    "bos_locations = bos_locations[1:6]\n",
    "bos_locations\n"
   ]
  },
  {
   "cell_type": "markdown",
   "metadata": {},
   "source": [
    "# New Orleans"
   ]
  },
  {
   "cell_type": "code",
   "execution_count": 39,
   "metadata": {},
   "outputs": [],
   "source": [
    "executable_path3 = {'executable_path': 'geckodriver.exe'}\n",
    "orl_browser = Browser('firefox', executable_path3, headless = False)\n",
    "\n",
    "cities = ['Manhattan','Boston', 'Denver', 'Philidelphia', 'San_Francisco', 'New_Orleans']\n",
    "orl_url = \"https://www.yelp.com/search?find_desc=Nightlife&find_loc=New_Orleans\"\n",
    "orl_browser.visit(orl_url)\n",
    "\n",
    "orl_html = orl_browser.html"
   ]
  },
  {
   "cell_type": "code",
   "execution_count": 40,
   "metadata": {},
   "outputs": [
    {
     "name": "stdout",
     "output_type": "stream",
     "text": [
      "1. Vue\n",
      "2. Preservation Hall\n",
      "3. The Spotted Cat Music Club\n",
      "4. Vive!\n",
      "5. GrrlSpot\n"
     ]
    }
   ],
   "source": [
    "orl = requests.get(orl_url).text\n",
    "orl_soup = bs(orl, 'html.parser')\n",
    "\n",
    "orl_ul_tag = orl_soup.find('ul', class_='lemon--ul__373c0__1_cxs undefined list__373c0__2G8oH')\n",
    "orl_h4_tag = orl_soup.find_all('h4')\n",
    "orl_h4_tag\n",
    "\n",
    "for i in range(1,6):\n",
    "    print(orl_h4_tag[i].text)"
   ]
  },
  {
   "cell_type": "code",
   "execution_count": 41,
   "metadata": {},
   "outputs": [
    {
     "data": {
      "text/plain": [
       "['Central Business District',\n",
       " 'French Quarter',\n",
       " '(504) 525-2300',\n",
       " '(504) 512-0453',\n",
       " '725 Iberville St']"
      ]
     },
     "execution_count": 41,
     "metadata": {},
     "output_type": "execute_result"
    }
   ],
   "source": [
    "orl_p_tag = orl_ul_tag.find_all('p', class_='lemon--p__373c0__3Qnnj text__373c0__2Kxyz text-color--black-extra-light__373c0__2OyzO text-align--right__373c0__1f0KI text-size--small__373c0__3NVWO')\n",
    "orl_locations = []\n",
    "for p in orl_p_tag[5::3]:\n",
    "    orl_locations.append(p.text)\n",
    "orl_locations = orl_locations[0:5]\n",
    "orl_locations\n"
   ]
  },
  {
   "cell_type": "markdown",
   "metadata": {},
   "source": [
    "# Philadelphia"
   ]
  },
  {
   "cell_type": "code",
   "execution_count": 42,
   "metadata": {},
   "outputs": [],
   "source": [
    "executable_path4 = {'executable_path': 'geckodriver.exe'}\n",
    "phil_browser = Browser('firefox', executable_path4, headless = False)\n",
    "\n",
    "cities = ['Manhattan','Boston', 'Denver', 'Philidelphia', 'San_Francisco', 'New_Orleans']\n",
    "phil_url = \"https://www.yelp.com/search?find_desc=Nightlife&find_loc=Philadelphia\"\n",
    "phil_browser.visit(phil_url)\n",
    "\n",
    "phil_html = phil_browser.html"
   ]
  },
  {
   "cell_type": "code",
   "execution_count": 43,
   "metadata": {},
   "outputs": [
    {
     "name": "stdout",
     "output_type": "stream",
     "text": [
      "1. Graffiti Bar\n",
      "2. Brasil’s Nightclub\n",
      "3. Rec & Royal\n",
      "4. Raven Lounge\n",
      "5. SPIN - Philadelphia\n"
     ]
    }
   ],
   "source": [
    "phil = requests.get(phil_url).text\n",
    "phil_soup = bs(phil, 'html.parser')\n",
    "\n",
    "phil_ul_tag = phil_soup.find('ul', class_='lemon--ul__373c0__1_cxs undefined list__373c0__2G8oH')\n",
    "phil_h4_tag = phil_soup.find_all('h4')\n",
    "phil_h4_tag\n",
    "\n",
    "for i in range(1,6):\n",
    "    print(phil_h4_tag[i].text)"
   ]
  },
  {
   "cell_type": "code",
   "execution_count": 44,
   "metadata": {},
   "outputs": [
    {
     "data": {
      "text/plain": [
       "['(215) 413-1700',\n",
       " '(215) 883-8088',\n",
       " '(215) 840-3577',\n",
       " '(267) 463-4850',\n",
       " '(267) 214-0086']"
      ]
     },
     "execution_count": 44,
     "metadata": {},
     "output_type": "execute_result"
    }
   ],
   "source": [
    "phil_p_tag = phil_ul_tag.find_all('p', class_='lemon--p__373c0__3Qnnj text__373c0__2Kxyz text-color--black-extra-light__373c0__2OyzO text-align--right__373c0__1f0KI text-size--small__373c0__3NVWO')\n",
    "phil_locations = []\n",
    "for p in phil_p_tag[5::3]:\n",
    "    phil_locations.append(p.text)\n",
    "phil_locations = phil_locations[0:5]\n",
    "phil_locations"
   ]
  },
  {
   "cell_type": "markdown",
   "metadata": {},
   "source": [
    "# San Francisco"
   ]
  },
  {
   "cell_type": "code",
   "execution_count": 45,
   "metadata": {},
   "outputs": [],
   "source": [
    "executable_path5 = {'executable_path': 'geckodriver.exe'}\n",
    "sanf_browser = Browser('firefox', executable_path5, headless = False)\n",
    "\n",
    "cities = ['Manhattan','Boston', 'Denver', 'Philidelphia', 'San_Francisco', 'New_Orleans']\n",
    "sanf_url = \"https://www.yelp.com/search?find_desc=Nightlife&find_loc=San_Francisco\"\n",
    "sanf_browser.visit(sanf_url)\n",
    "\n",
    "sanf_html = sanf_browser.html"
   ]
  },
  {
   "cell_type": "code",
   "execution_count": 46,
   "metadata": {},
   "outputs": [
    {
     "name": "stdout",
     "output_type": "stream",
     "text": [
      "1. Bootie Mashup: SF\n",
      "2. Ryoko’s\n",
      "3. The View Lounge\n",
      "4. Exploratorium After Dark\n",
      "5. Arena SF\n"
     ]
    }
   ],
   "source": [
    "sanf = requests.get(sanf_url).text\n",
    "sanf_soup = bs(sanf, 'html.parser')\n",
    "\n",
    "sanf_ul_tag = sanf_soup.find('ul', class_='lemon--ul__373c0__1_cxs undefined list__373c0__2G8oH')\n",
    "sanf_h4_tag = sanf_soup.find_all('h4')\n",
    "sanf_h4_tag\n",
    "\n",
    "for i in range(1,6):\n",
    "    print(sanf_h4_tag[i].text)"
   ]
  },
  {
   "cell_type": "code",
   "execution_count": 52,
   "metadata": {},
   "outputs": [
    {
     "data": {
      "text/plain": [
       "['(415) 775-1028',\n",
       " '(415) 896-1600',\n",
       " '(415) 528-4444',\n",
       " '(650) 273-7468',\n",
       " '(415) 312-3668']"
      ]
     },
     "execution_count": 52,
     "metadata": {},
     "output_type": "execute_result"
    }
   ],
   "source": [
    "sanf_p_tag = sanf_ul_tag.find_all('p', class_='lemon--p__373c0__3Qnnj text__373c0__2Kxyz text-color--black-extra-light__373c0__2OyzO text-align--right__373c0__1f0KI text-size--small__373c0__3NVWO')\n",
    "sanf_locations = []\n",
    "for p in sanf_p_tag[5::3]:\n",
    "    sanf_locations.append(p.text)\n",
    "sanf_locations = sanf_locations[0:5]\n",
    "sanf_locations"
   ]
  },
  {
   "cell_type": "markdown",
   "metadata": {},
   "source": [
    "# Denver"
   ]
  },
  {
   "cell_type": "code",
   "execution_count": 48,
   "metadata": {},
   "outputs": [],
   "source": [
    "executable_path6 = {'executable_path': 'geckodriver.exe'}\n",
    "den_browser = Browser('firefox', executable_path6, headless = False)\n",
    "\n",
    "cities = ['Manhattan','Boston', 'Denver', 'Philidelphia', 'San_Francisco', 'New_Orleans']\n",
    "den_url = \"https://www.yelp.com/search?find_desc=Nightlife&find_loc=Denver\"\n",
    "den_browser.visit(den_url)\n",
    "\n",
    "den_html = den_browser.html"
   ]
  },
  {
   "cell_type": "code",
   "execution_count": 49,
   "metadata": {},
   "outputs": [
    {
     "name": "stdout",
     "output_type": "stream",
     "text": [
      "1. Temple Denver\n",
      "2. Neon Baby\n",
      "3. Urban Putt\n",
      "4. Your Mom’s House\n",
      "5. Upstairs Circus Lower Downtown - LoDo\n"
     ]
    }
   ],
   "source": [
    "den = requests.get(den_url).text\n",
    "den_soup = bs(den, 'html.parser')\n",
    "\n",
    "den_ul_tag = den_soup.find('ul', class_='lemon--ul__373c0__1_cxs undefined list__373c0__2G8oH')\n",
    "den_h4_tag = den_soup.find_all('h4')\n",
    "den_h4_tag\n",
    "\n",
    "for i in range(1,6):\n",
    "    print(den_h4_tag[i].text)"
   ]
  },
  {
   "cell_type": "code",
   "execution_count": 50,
   "metadata": {},
   "outputs": [
    {
     "data": {
      "text/plain": [
       "['1136 Broadway', 'Lodo', 'Lodo', 'Capitol Hill', 'Lodo']"
      ]
     },
     "execution_count": 50,
     "metadata": {},
     "output_type": "execute_result"
    }
   ],
   "source": [
    "den_p_tag = den_ul_tag.find_all('p', class_='lemon--p__373c0__3Qnnj text__373c0__2Kxyz text-color--black-extra-light__373c0__2OyzO text-align--right__373c0__1f0KI text-size--small__373c0__3NVWO')\n",
    "den_locations = []\n",
    "for p in den_p_tag[4::3]:\n",
    "    den_locations.append(p.text)\n",
    "den_locations = den_locations[0:5]\n",
    "den_locations"
   ]
  },
  {
   "cell_type": "code",
   "execution_count": null,
   "metadata": {},
   "outputs": [],
   "source": []
  }
 ],
 "metadata": {
  "kernelspec": {
   "display_name": "Python 3",
   "language": "python",
   "name": "python3"
  },
  "language_info": {
   "codemirror_mode": {
    "name": "ipython",
    "version": 3
   },
   "file_extension": ".py",
   "mimetype": "text/x-python",
   "name": "python",
   "nbconvert_exporter": "python",
   "pygments_lexer": "ipython3",
   "version": "3.7.4"
  }
 },
 "nbformat": 4,
 "nbformat_minor": 2
}
